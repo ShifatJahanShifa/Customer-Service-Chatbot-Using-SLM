{
 "cells": [
  {
   "cell_type": "markdown",
   "id": "acd29522",
   "metadata": {},
   "source": [
    "# Load and Store"
   ]
  },
  {
   "cell_type": "code",
   "execution_count": 2,
   "id": "d12b7938",
   "metadata": {},
   "outputs": [],
   "source": [
    "import os\n",
    "from llama_index.core import SimpleDirectoryReader"
   ]
  },
  {
   "cell_type": "code",
   "execution_count": 4,
   "id": "6210c937",
   "metadata": {},
   "outputs": [],
   "source": [
    "base_folder = 'docs'\n",
    "reader = SimpleDirectoryReader(base_folder, recursive = True, exclude_hidden=True)"
   ]
  },
  {
   "cell_type": "code",
   "execution_count": null,
   "id": "e146617c",
   "metadata": {},
   "outputs": [
    {
     "data": {
      "text/plain": [
       "[WindowsPath('c:/Users/Shifa/Desktop/Customer-Service-Chatbot-Using-SLM/docs/coffee_bean_menu.csv'),\n",
       " WindowsPath('c:/Users/Shifa/Desktop/Customer-Service-Chatbot-Using-SLM/docs/general_info.txt'),\n",
       " WindowsPath('c:/Users/Shifa/Desktop/Customer-Service-Chatbot-Using-SLM/docs/menu_price.csv'),\n",
       " WindowsPath('c:/Users/Shifa/Desktop/Customer-Service-Chatbot-Using-SLM/docs/product_factsheets/blue_mountain.txt'),\n",
       " WindowsPath('c:/Users/Shifa/Desktop/Customer-Service-Chatbot-Using-SLM/docs/product_factsheets/geisha.txt'),\n",
       " WindowsPath('c:/Users/Shifa/Desktop/Customer-Service-Chatbot-Using-SLM/docs/product_factsheets/sumatra_mandheling.txt'),\n",
       " WindowsPath('c:/Users/Shifa/Desktop/Customer-Service-Chatbot-Using-SLM/docs/product_factsheets/yirgacheffe.txt')]"
      ]
     },
     "execution_count": 5,
     "metadata": {},
     "output_type": "execute_result"
    }
   ],
   "source": [
    "reader.input_files"
   ]
  },
  {
   "cell_type": "code",
   "execution_count": 6,
   "id": "3b36e575",
   "metadata": {},
   "outputs": [],
   "source": [
    "docs = reader.load_data()"
   ]
  },
  {
   "cell_type": "code",
   "execution_count": 7,
   "id": "6211edd0",
   "metadata": {},
   "outputs": [
    {
     "data": {
      "text/plain": [
       "[Document(id_='ec37a1fa-c382-4b02-90d6-36a13a761e45', embedding=None, metadata={'file_path': 'c:\\\\Users\\\\Shifa\\\\Desktop\\\\Customer-Service-Chatbot-Using-SLM\\\\docs\\\\coffee_bean_menu.csv', 'file_name': 'coffee_bean_menu.csv', 'file_type': 'application/vnd.ms-excel', 'file_size': 1128, 'creation_date': '2025-08-16', 'last_modified_date': '2025-08-14'}, excluded_embed_metadata_keys=['file_name', 'file_type', 'file_size', 'creation_date', 'last_modified_date', 'last_accessed_date'], excluded_llm_metadata_keys=['file_name', 'file_type', 'file_size', 'creation_date', 'last_modified_date', 'last_accessed_date'], relationships={}, metadata_template='{key}: {value}', metadata_separator='\\n', text_resource=MediaResource(embeddings=None, data=None, text='Origin, Hacienda La Esmeralda, Panama, Yirgacheffe region, Ethiopia, Blue Mountains, Jamaica, Mandheling, Sumatra, Indonesia\\nAltitude (meters), 1,500-2,000, 1,700-2,200, 910-1,700, 1,000-1,500\\nFlavor Profile, Jasmine, bergamot, honey, peaches, berries, Floral, lemon, bergamot, jasmine, honey, Sweet herbs, nuts, chocolate, Dark chocolate, cedar, tropical fruit\\nAcidity, Bright, Vibrant, Mild, Low\\nBody, Delicate, Light-Medium, Smooth, Full\\nAftertaste, Sweet, Clean, sweet, Clean, chocolatey, Spicy\\nProcessing Method, Washed, Washed, Wet-processed, Giling Basah\\nRoast Level, Light-Medium, Light-Medium, Medium, Medium-Dark\\nRecommended Brewing Methods, Pour-over, Chemex, Aeropress, Pour-over, cold brew, drip, Drip, French press, Espresso, French press\\nPackaging (oz/g), 12 oz (340g), 12 oz (340g), 16 oz (454g), 12 oz (340g)\\nPrice ($ per bag), $50, $30, $40, $25\\nCertifications, Direct Trade, Rainforest Alliance, Organic, Fair Trade, 100% Certified, Rainforest Alliance\\nAwards, Best of Panama winner, Global recognition, One of the best globally, Distinctive taste', path=None, url=None, mimetype=None), image_resource=None, audio_resource=None, video_resource=None, text_template='{metadata_str}\\n\\n{content}'),\n",
       " Document(id_='52f05fe1-dfe9-4507-bd5a-18d81e291c9b', embedding=None, metadata={'file_path': 'c:\\\\Users\\\\Shifa\\\\Desktop\\\\Customer-Service-Chatbot-Using-SLM\\\\docs\\\\general_info.txt', 'file_name': 'general_info.txt', 'file_type': 'text/plain', 'file_size': 433, 'creation_date': '2025-08-16', 'last_modified_date': '2025-08-14'}, excluded_embed_metadata_keys=['file_name', 'file_type', 'file_size', 'creation_date', 'last_modified_date', 'last_accessed_date'], excluded_llm_metadata_keys=['file_name', 'file_type', 'file_size', 'creation_date', 'last_modified_date', 'last_accessed_date'], relationships={}, metadata_template='{key}: {value}', metadata_separator='\\n', text_resource=MediaResource(embeddings=None, data=None, text='Shop Name: PlanetBucks\\r\\nWhat we sell: coffee drinks and coffee bean\\r\\n\\r\\nOperating time:\\r\\nMonday to Friday 7 am - 8 pm\\r\\nSaturday, Sunday, National Holiday 9 am - 4 pm\\r\\n\\r\\nAddress: ชั้น G ห้าง Emquartier สุขุมวิท กรุงเทพฯ\\r\\nBranch 1: Icon Siam Mall, Third Floor, South Wing, Bangkok, Thailand\\r\\nBranch 2: 103th Floor, Empire State Building, NYC\\r\\n\\r\\nPayment: cash, credit card, square, bitcoin', path=None, url=None, mimetype=None), image_resource=None, audio_resource=None, video_resource=None, text_template='{metadata_str}\\n\\n{content}'),\n",
       " Document(id_='56a8c827-9cb2-49bb-8635-e953a46e4089', embedding=None, metadata={'file_path': 'c:\\\\Users\\\\Shifa\\\\Desktop\\\\Customer-Service-Chatbot-Using-SLM\\\\docs\\\\menu_price.csv', 'file_name': 'menu_price.csv', 'file_type': 'application/vnd.ms-excel', 'file_size': 256, 'creation_date': '2025-08-16', 'last_modified_date': '2025-08-14'}, excluded_embed_metadata_keys=['file_name', 'file_type', 'file_size', 'creation_date', 'last_modified_date', 'last_accessed_date'], excluded_llm_metadata_keys=['file_name', 'file_type', 'file_size', 'creation_date', 'last_modified_date', 'last_accessed_date'], relationships={}, metadata_template='{key}: {value}', metadata_separator='\\n', text_resource=MediaResource(embeddings=None, data=None, text='Coffee Drink, Small Size Price ($), Large Size Price ($)\\nEspresso, 2.00, 3.00\\nAmericano, 2.50, 3.50\\nCappuccino, 3.00, 4.50\\nLatte, 3.50, 5.00\\nMocha, 4.00, 5.50\\nnan, nan, nan\\nTable of Add-on items or change, nan, nan\\nIce, 0.50, nan\\nOat milk, 1.00, nan\\nSoy milk, 0.75, nan', path=None, url=None, mimetype=None), image_resource=None, audio_resource=None, video_resource=None, text_template='{metadata_str}\\n\\n{content}'),\n",
       " Document(id_='6d328f56-92db-447a-a1b5-317091f418a3', embedding=None, metadata={'file_path': 'c:\\\\Users\\\\Shifa\\\\Desktop\\\\Customer-Service-Chatbot-Using-SLM\\\\docs\\\\product_factsheets\\\\blue_mountain.txt', 'file_name': 'blue_mountain.txt', 'file_type': 'text/plain', 'file_size': 1027, 'creation_date': '2025-08-16', 'last_modified_date': '2025-08-14'}, excluded_embed_metadata_keys=['file_name', 'file_type', 'file_size', 'creation_date', 'last_modified_date', 'last_accessed_date'], excluded_llm_metadata_keys=['file_name', 'file_type', 'file_size', 'creation_date', 'last_modified_date', 'last_accessed_date'], relationships={}, metadata_template='{key}: {value}', metadata_separator='\\n', text_resource=MediaResource(embeddings=None, data=None, text='Blue Mountain Coffee Beans - The Jewel of Jamaica\\n\\nOrigin: Cultivated in the revered Blue Mountains of Jamaica, from estates that meet the highest standards of quality.\\nAltitude: Thrives at altitudes of 910 to 1,700 meters, where the climate is perfect for developing its signature flavors.\\nTaste Profile: A rare blend of sweet herbs and nuts, complemented by a chocolate undertone. It boasts a mild acidity, a smooth body, and a clean, sweet aftertaste.\\nProcessing: Wet-processed to enhance its smooth and clean profile.\\nRoast Level: Medium roast, optimizing its mild and unique flavors.\\nBrewing Recommendations: Ideal for drip coffee makers and French press, where its subtle complexities can be savored.\\nPackaging: 16 oz (454g) vacuum-sealed bags for maximum freshness.\\nPrice: $40 per bag, a testament to its unparalleled quality and heritage.\\nCertifications: Officially certified as 100% Blue Mountain Coffee, ensuring authenticity and excellence.\\nAwards: Renowned worldwide for its exceptional quality and exquisite taste.', path=None, url=None, mimetype=None), image_resource=None, audio_resource=None, video_resource=None, text_template='{metadata_str}\\n\\n{content}'),\n",
       " Document(id_='b81ef4e0-2df3-4876-bd81-3deb718ed3a5', embedding=None, metadata={'file_path': 'c:\\\\Users\\\\Shifa\\\\Desktop\\\\Customer-Service-Chatbot-Using-SLM\\\\docs\\\\product_factsheets\\\\geisha.txt', 'file_name': 'geisha.txt', 'file_type': 'text/plain', 'file_size': 1099, 'creation_date': '2025-08-16', 'last_modified_date': '2025-08-14'}, excluded_embed_metadata_keys=['file_name', 'file_type', 'file_size', 'creation_date', 'last_modified_date', 'last_accessed_date'], excluded_llm_metadata_keys=['file_name', 'file_type', 'file_size', 'creation_date', 'last_modified_date', 'last_accessed_date'], relationships={}, metadata_template='{key}: {value}', metadata_separator='\\n', text_resource=MediaResource(embeddings=None, data=None, text=\"Geisha Coffee Beans - Hacienda La Esmeralda\\n\\nOrigin: Boquete, Panama, from Hacienda La Esmeralda, renowned for producing award-winning Geisha coffee.\\nAltitude: Grown at elevations of 1,500 to 2,000 meters, ideal for developing the bean's distinctive flavors.\\nTaste Profile: A harmonious blend of jasmine and bergamot aromas, complemented by flavors of honey, peaches, and wild berries. The coffee boasts a bright acidity, a delicate body, and a sweet, lingering aftertaste.\\nProcessing: Washed process, highlighting its sweetness and intricate floral notes.\\nRoast Level: Light to medium roast, perfect for preserving the bean's unique flavors.\\nBrewing Recommendations: Best enjoyed using pour-over, Chemex, or Aeropress methods to savor its complex profile.\\nPackaging: 12 oz (340g) eco-friendly, resealable bags.\\nPrice: $50 per bag, a testament to its exceptional quality and exclusivity.\\nCertifications: Direct Trade, Rainforest Alliance Certified, ensuring sustainability and fair trade practices.\\nAwards: Celebrated for its outstanding quality with multiple wins in the Best of Panama competition.\", path=None, url=None, mimetype=None), image_resource=None, audio_resource=None, video_resource=None, text_template='{metadata_str}\\n\\n{content}'),\n",
       " Document(id_='09e0d9cb-665b-4643-a1af-7c9fd00779ee', embedding=None, metadata={'file_path': 'c:\\\\Users\\\\Shifa\\\\Desktop\\\\Customer-Service-Chatbot-Using-SLM\\\\docs\\\\product_factsheets\\\\sumatra_mandheling.txt', 'file_name': 'sumatra_mandheling.txt', 'file_type': 'text/plain', 'file_size': 1112, 'creation_date': '2025-08-16', 'last_modified_date': '2025-08-14'}, excluded_embed_metadata_keys=['file_name', 'file_type', 'file_size', 'creation_date', 'last_modified_date', 'last_accessed_date'], excluded_llm_metadata_keys=['file_name', 'file_type', 'file_size', 'creation_date', 'last_modified_date', 'last_accessed_date'], relationships={}, metadata_template='{key}: {value}', metadata_separator='\\n', text_resource=MediaResource(embeddings=None, data=None, text='Sumatra Mandheling Coffee Beans - The Heart of Indonesia\\n\\nOrigin: Sourced from the lush Mandheling region of North Sumatra, Indonesia, where coffee is cultivated with care and tradition.\\nAltitude: Grown at 1,000 to 1,500 meters, ideal for developing its signature deep and earthy flavors.\\nTaste Profile: A robust cup with a profile of dark chocolate and cedar, complemented by a hint of tropical fruit. Features low acidity, a full body, and a spicy aftertaste.\\nProcessing: Utilizes the Giling Basah method, distinctive to Indonesian coffee, enhancing its unique characteristics.\\nRoast Level: Medium to dark roast, perfect for bringing out its bold and rich flavors.\\nBrewing Recommendations: Best enjoyed in espresso or French press, where its complexity can be fully appreciated.\\nPackaging: 12 oz (340g) bags, prioritizing freshness.\\nPrice: $25 per bag, reflecting the premium quality and the unique coffee experience it offers.\\nCertifications: Rainforest Alliance Certified, affirming a commitment to sustainability.\\nAwards: Recognized for its distinctive taste profile and high quality by coffee connoisseurs.', path=None, url=None, mimetype=None), image_resource=None, audio_resource=None, video_resource=None, text_template='{metadata_str}\\n\\n{content}'),\n",
       " Document(id_='a255641e-b199-418c-a177-d50a22cd2d3b', embedding=None, metadata={'file_path': 'c:\\\\Users\\\\Shifa\\\\Desktop\\\\Customer-Service-Chatbot-Using-SLM\\\\docs\\\\product_factsheets\\\\yirgacheffe.txt', 'file_name': 'yirgacheffe.txt', 'file_type': 'text/plain', 'file_size': 1238, 'creation_date': '2025-08-16', 'last_modified_date': '2025-08-14'}, excluded_embed_metadata_keys=['file_name', 'file_type', 'file_size', 'creation_date', 'last_modified_date', 'last_accessed_date'], excluded_llm_metadata_keys=['file_name', 'file_type', 'file_size', 'creation_date', 'last_modified_date', 'last_accessed_date'], relationships={}, metadata_template='{key}: {value}', metadata_separator='\\n', text_resource=MediaResource(embeddings=None, data=None, text=\"Yirgacheffe Coffee Beans - The Essence of Ethiopia\\n\\nOrigin: Sourced from the esteemed Yirgacheffe region within Sidamo, Ethiopia, where coffee cultivation is an art passed down through generations.\\nAltitude: Cultivated at 1,700 to 2,200 meters, the ideal range for developing its signature floral and citrus notes.\\nTaste Profile: A delightful floral bouquet with a citrusy twist, featuring lemon and bergamot, and accented by jasmine and honey. Exhibits a bright acidity and a light to medium body, culminating in a refreshingly sweet aftertaste.\\nProcessing: Washed processing enhances its inherent clarity and exquisite floral undertones.\\nRoast Level: Optimal light to medium roast to preserve the bean's delicate flavors.\\nBrewing Recommendations: Best experienced through pour-over, cold brew, or drip coffee, allowing its unique characteristics to shine.\\nPackaging: 12 oz (340g) bags designed with the environment in mind.\\nPrice: $30 per bag, a tribute to its premium quality and the intricate care involved in its production.\\nCertifications: Proudly Organic and Fair Trade certified, supporting ethical and sustainable coffee farming.\\nAwards: Celebrated for its unique flavor profile and quality, both in Ethiopia and internationally.\", path=None, url=None, mimetype=None), image_resource=None, audio_resource=None, video_resource=None, text_template='{metadata_str}\\n\\n{content}')]"
      ]
     },
     "execution_count": 7,
     "metadata": {},
     "output_type": "execute_result"
    }
   ],
   "source": [
    "docs"
   ]
  },
  {
   "cell_type": "code",
   "execution_count": 8,
   "id": "064b7030",
   "metadata": {},
   "outputs": [
    {
     "data": {
      "text/plain": [
       "7"
      ]
     },
     "execution_count": 8,
     "metadata": {},
     "output_type": "execute_result"
    }
   ],
   "source": [
    "len(docs)"
   ]
  },
  {
   "cell_type": "code",
   "execution_count": 9,
   "id": "9f427aab",
   "metadata": {},
   "outputs": [
    {
     "name": "stdout",
     "output_type": "stream",
     "text": [
      "file_path: c:\\Users\\Shifa\\Desktop\\Customer-Service-Chatbot-Using-SLM\\docs\\coffee_bean_menu.csv\n",
      "file_name: coffee_bean_menu.csv\n",
      "file_type: application/vnd.ms-excel\n",
      "file_size: 1128\n",
      "creation_date: 2025-08-16\n",
      "last_modified_date: 2025-08-14\n"
     ]
    }
   ],
   "source": [
    "print(docs[0].get_metadata_str())"
   ]
  },
  {
   "cell_type": "code",
   "execution_count": 10,
   "id": "f8687e3c",
   "metadata": {},
   "outputs": [
    {
     "data": {
      "text/plain": [
       "{'id_': 'ec37a1fa-c382-4b02-90d6-36a13a761e45',\n",
       " 'embedding': None,\n",
       " 'metadata': {'file_path': 'c:\\\\Users\\\\Shifa\\\\Desktop\\\\Customer-Service-Chatbot-Using-SLM\\\\docs\\\\coffee_bean_menu.csv',\n",
       "  'file_name': 'coffee_bean_menu.csv',\n",
       "  'file_type': 'application/vnd.ms-excel',\n",
       "  'file_size': 1128,\n",
       "  'creation_date': '2025-08-16',\n",
       "  'last_modified_date': '2025-08-14'},\n",
       " 'excluded_embed_metadata_keys': ['file_name',\n",
       "  'file_type',\n",
       "  'file_size',\n",
       "  'creation_date',\n",
       "  'last_modified_date',\n",
       "  'last_accessed_date'],\n",
       " 'excluded_llm_metadata_keys': ['file_name',\n",
       "  'file_type',\n",
       "  'file_size',\n",
       "  'creation_date',\n",
       "  'last_modified_date',\n",
       "  'last_accessed_date'],\n",
       " 'relationships': {},\n",
       " 'metadata_template': '{key}: {value}',\n",
       " 'metadata_separator': '\\n',\n",
       " 'text_resource': MediaResource(embeddings=None, data=None, text='Origin, Hacienda La Esmeralda, Panama, Yirgacheffe region, Ethiopia, Blue Mountains, Jamaica, Mandheling, Sumatra, Indonesia\\nAltitude (meters), 1,500-2,000, 1,700-2,200, 910-1,700, 1,000-1,500\\nFlavor Profile, Jasmine, bergamot, honey, peaches, berries, Floral, lemon, bergamot, jasmine, honey, Sweet herbs, nuts, chocolate, Dark chocolate, cedar, tropical fruit\\nAcidity, Bright, Vibrant, Mild, Low\\nBody, Delicate, Light-Medium, Smooth, Full\\nAftertaste, Sweet, Clean, sweet, Clean, chocolatey, Spicy\\nProcessing Method, Washed, Washed, Wet-processed, Giling Basah\\nRoast Level, Light-Medium, Light-Medium, Medium, Medium-Dark\\nRecommended Brewing Methods, Pour-over, Chemex, Aeropress, Pour-over, cold brew, drip, Drip, French press, Espresso, French press\\nPackaging (oz/g), 12 oz (340g), 12 oz (340g), 16 oz (454g), 12 oz (340g)\\nPrice ($ per bag), $50, $30, $40, $25\\nCertifications, Direct Trade, Rainforest Alliance, Organic, Fair Trade, 100% Certified, Rainforest Alliance\\nAwards, Best of Panama winner, Global recognition, One of the best globally, Distinctive taste', path=None, url=None, mimetype=None),\n",
       " 'image_resource': None,\n",
       " 'audio_resource': None,\n",
       " 'video_resource': None,\n",
       " 'text_template': '{metadata_str}\\n\\n{content}'}"
      ]
     },
     "execution_count": 10,
     "metadata": {},
     "output_type": "execute_result"
    }
   ],
   "source": [
    "docs[0].__dict__"
   ]
  },
  {
   "cell_type": "markdown",
   "id": "d78c840b",
   "metadata": {},
   "source": [
    "> Node Parser\n",
    "I will use `SentenceSplitter` to parse."
   ]
  },
  {
   "cell_type": "code",
   "execution_count": 15,
   "id": "ca492660",
   "metadata": {},
   "outputs": [],
   "source": [
    "from llama_index.core.node_parser import SentenceSplitter\n",
    "node_parser = SentenceSplitter(chunk_size=500, chunk_overlap=0)"
   ]
  },
  {
   "cell_type": "code",
   "execution_count": 16,
   "id": "b42838aa",
   "metadata": {},
   "outputs": [
    {
     "data": {
      "application/vnd.jupyter.widget-view+json": {
       "model_id": "2ac02a9c107244d5a4e4df87e9a9f075",
       "version_major": 2,
       "version_minor": 0
      },
      "text/plain": [
       "Parsing nodes:   0%|          | 0/7 [00:00<?, ?it/s]"
      ]
     },
     "metadata": {},
     "output_type": "display_data"
    }
   ],
   "source": [
    "nodes = node_parser.get_nodes_from_documents(docs, show_progress=True)"
   ]
  },
  {
   "cell_type": "code",
   "execution_count": 17,
   "id": "ac92bad5",
   "metadata": {},
   "outputs": [
    {
     "data": {
      "text/plain": [
       "7"
      ]
     },
     "execution_count": 17,
     "metadata": {},
     "output_type": "execute_result"
    }
   ],
   "source": [
    "len(nodes)"
   ]
  },
  {
   "cell_type": "code",
   "execution_count": 18,
   "id": "2a544c5d",
   "metadata": {},
   "outputs": [
    {
     "data": {
      "text/plain": [
       "[TextNode(id_='43f2bd3a-e2c9-4f9b-8232-0c53b2262a43', embedding=None, metadata={'file_path': 'c:\\\\Users\\\\Shifa\\\\Desktop\\\\Customer-Service-Chatbot-Using-SLM\\\\docs\\\\coffee_bean_menu.csv', 'file_name': 'coffee_bean_menu.csv', 'file_type': 'application/vnd.ms-excel', 'file_size': 1128, 'creation_date': '2025-08-16', 'last_modified_date': '2025-08-14'}, excluded_embed_metadata_keys=['file_name', 'file_type', 'file_size', 'creation_date', 'last_modified_date', 'last_accessed_date'], excluded_llm_metadata_keys=['file_name', 'file_type', 'file_size', 'creation_date', 'last_modified_date', 'last_accessed_date'], relationships={<NodeRelationship.SOURCE: '1'>: RelatedNodeInfo(node_id='ec37a1fa-c382-4b02-90d6-36a13a761e45', node_type=<ObjectType.DOCUMENT: '4'>, metadata={'file_path': 'c:\\\\Users\\\\Shifa\\\\Desktop\\\\Customer-Service-Chatbot-Using-SLM\\\\docs\\\\coffee_bean_menu.csv', 'file_name': 'coffee_bean_menu.csv', 'file_type': 'application/vnd.ms-excel', 'file_size': 1128, 'creation_date': '2025-08-16', 'last_modified_date': '2025-08-14'}, hash='3ff68609352f2ad1a71e56053c0fa430d3f7bf39bd2b55594f3c1f11baa34b02')}, metadata_template='{key}: {value}', metadata_separator='\\n', text='Origin, Hacienda La Esmeralda, Panama, Yirgacheffe region, Ethiopia, Blue Mountains, Jamaica, Mandheling, Sumatra, Indonesia\\nAltitude (meters), 1,500-2,000, 1,700-2,200, 910-1,700, 1,000-1,500\\nFlavor Profile, Jasmine, bergamot, honey, peaches, berries, Floral, lemon, bergamot, jasmine, honey, Sweet herbs, nuts, chocolate, Dark chocolate, cedar, tropical fruit\\nAcidity, Bright, Vibrant, Mild, Low\\nBody, Delicate, Light-Medium, Smooth, Full\\nAftertaste, Sweet, Clean, sweet, Clean, chocolatey, Spicy\\nProcessing Method, Washed, Washed, Wet-processed, Giling Basah\\nRoast Level, Light-Medium, Light-Medium, Medium, Medium-Dark\\nRecommended Brewing Methods, Pour-over, Chemex, Aeropress, Pour-over, cold brew, drip, Drip, French press, Espresso, French press\\nPackaging (oz/g), 12 oz (340g), 12 oz (340g), 16 oz (454g), 12 oz (340g)\\nPrice ($ per bag), $50, $30, $40, $25\\nCertifications, Direct Trade, Rainforest Alliance, Organic, Fair Trade, 100% Certified, Rainforest Alliance\\nAwards, Best of Panama winner, Global recognition, One of the best globally, Distinctive taste', mimetype='text/plain', start_char_idx=0, end_char_idx=1066, metadata_seperator='\\n', text_template='{metadata_str}\\n\\n{content}'),\n",
       " TextNode(id_='c363e32e-c1a3-4c30-9bb5-fa9abde0f9b7', embedding=None, metadata={'file_path': 'c:\\\\Users\\\\Shifa\\\\Desktop\\\\Customer-Service-Chatbot-Using-SLM\\\\docs\\\\general_info.txt', 'file_name': 'general_info.txt', 'file_type': 'text/plain', 'file_size': 433, 'creation_date': '2025-08-16', 'last_modified_date': '2025-08-14'}, excluded_embed_metadata_keys=['file_name', 'file_type', 'file_size', 'creation_date', 'last_modified_date', 'last_accessed_date'], excluded_llm_metadata_keys=['file_name', 'file_type', 'file_size', 'creation_date', 'last_modified_date', 'last_accessed_date'], relationships={<NodeRelationship.SOURCE: '1'>: RelatedNodeInfo(node_id='52f05fe1-dfe9-4507-bd5a-18d81e291c9b', node_type=<ObjectType.DOCUMENT: '4'>, metadata={'file_path': 'c:\\\\Users\\\\Shifa\\\\Desktop\\\\Customer-Service-Chatbot-Using-SLM\\\\docs\\\\general_info.txt', 'file_name': 'general_info.txt', 'file_type': 'text/plain', 'file_size': 433, 'creation_date': '2025-08-16', 'last_modified_date': '2025-08-14'}, hash='2fa88087e6c2cc093a917068da4599ad005064270246363b11a765a8308419f6')}, metadata_template='{key}: {value}', metadata_separator='\\n', text='Shop Name: PlanetBucks\\r\\nWhat we sell: coffee drinks and coffee bean\\r\\n\\r\\nOperating time:\\r\\nMonday to Friday 7 am - 8 pm\\r\\nSaturday, Sunday, National Holiday 9 am - 4 pm\\r\\n\\r\\nAddress: ชั้น G ห้าง Emquartier สุขุมวิท กรุงเทพฯ\\r\\nBranch 1: Icon Siam Mall, Third Floor, South Wing, Bangkok, Thailand\\r\\nBranch 2: 103th Floor, Empire State Building, NYC\\r\\n\\r\\nPayment: cash, credit card, square, bitcoin', mimetype='text/plain', start_char_idx=0, end_char_idx=385, metadata_seperator='\\n', text_template='{metadata_str}\\n\\n{content}'),\n",
       " TextNode(id_='48b32937-7e4e-4253-8b3e-efd275066c36', embedding=None, metadata={'file_path': 'c:\\\\Users\\\\Shifa\\\\Desktop\\\\Customer-Service-Chatbot-Using-SLM\\\\docs\\\\menu_price.csv', 'file_name': 'menu_price.csv', 'file_type': 'application/vnd.ms-excel', 'file_size': 256, 'creation_date': '2025-08-16', 'last_modified_date': '2025-08-14'}, excluded_embed_metadata_keys=['file_name', 'file_type', 'file_size', 'creation_date', 'last_modified_date', 'last_accessed_date'], excluded_llm_metadata_keys=['file_name', 'file_type', 'file_size', 'creation_date', 'last_modified_date', 'last_accessed_date'], relationships={<NodeRelationship.SOURCE: '1'>: RelatedNodeInfo(node_id='56a8c827-9cb2-49bb-8635-e953a46e4089', node_type=<ObjectType.DOCUMENT: '4'>, metadata={'file_path': 'c:\\\\Users\\\\Shifa\\\\Desktop\\\\Customer-Service-Chatbot-Using-SLM\\\\docs\\\\menu_price.csv', 'file_name': 'menu_price.csv', 'file_type': 'application/vnd.ms-excel', 'file_size': 256, 'creation_date': '2025-08-16', 'last_modified_date': '2025-08-14'}, hash='e29faca7973261eb7e22c625cde6aff550ee0ed4118281cd79b3e8abf99f4c32')}, metadata_template='{key}: {value}', metadata_separator='\\n', text='Coffee Drink, Small Size Price ($), Large Size Price ($)\\nEspresso, 2.00, 3.00\\nAmericano, 2.50, 3.50\\nCappuccino, 3.00, 4.50\\nLatte, 3.50, 5.00\\nMocha, 4.00, 5.50\\nnan, nan, nan\\nTable of Add-on items or change, nan, nan\\nIce, 0.50, nan\\nOat milk, 1.00, nan\\nSoy milk, 0.75, nan', mimetype='text/plain', start_char_idx=0, end_char_idx=269, metadata_seperator='\\n', text_template='{metadata_str}\\n\\n{content}'),\n",
       " TextNode(id_='3c2c2caf-2002-43b5-a8e6-2cefde4b269f', embedding=None, metadata={'file_path': 'c:\\\\Users\\\\Shifa\\\\Desktop\\\\Customer-Service-Chatbot-Using-SLM\\\\docs\\\\product_factsheets\\\\blue_mountain.txt', 'file_name': 'blue_mountain.txt', 'file_type': 'text/plain', 'file_size': 1027, 'creation_date': '2025-08-16', 'last_modified_date': '2025-08-14'}, excluded_embed_metadata_keys=['file_name', 'file_type', 'file_size', 'creation_date', 'last_modified_date', 'last_accessed_date'], excluded_llm_metadata_keys=['file_name', 'file_type', 'file_size', 'creation_date', 'last_modified_date', 'last_accessed_date'], relationships={<NodeRelationship.SOURCE: '1'>: RelatedNodeInfo(node_id='6d328f56-92db-447a-a1b5-317091f418a3', node_type=<ObjectType.DOCUMENT: '4'>, metadata={'file_path': 'c:\\\\Users\\\\Shifa\\\\Desktop\\\\Customer-Service-Chatbot-Using-SLM\\\\docs\\\\product_factsheets\\\\blue_mountain.txt', 'file_name': 'blue_mountain.txt', 'file_type': 'text/plain', 'file_size': 1027, 'creation_date': '2025-08-16', 'last_modified_date': '2025-08-14'}, hash='a4e4a4323ed6ca387fb2222420fc0c27778e31e0e6ebb9bf0961efbb65ec6e90')}, metadata_template='{key}: {value}', metadata_separator='\\n', text='Blue Mountain Coffee Beans - The Jewel of Jamaica\\n\\nOrigin: Cultivated in the revered Blue Mountains of Jamaica, from estates that meet the highest standards of quality.\\nAltitude: Thrives at altitudes of 910 to 1,700 meters, where the climate is perfect for developing its signature flavors.\\nTaste Profile: A rare blend of sweet herbs and nuts, complemented by a chocolate undertone. It boasts a mild acidity, a smooth body, and a clean, sweet aftertaste.\\nProcessing: Wet-processed to enhance its smooth and clean profile.\\nRoast Level: Medium roast, optimizing its mild and unique flavors.\\nBrewing Recommendations: Ideal for drip coffee makers and French press, where its subtle complexities can be savored.\\nPackaging: 16 oz (454g) vacuum-sealed bags for maximum freshness.\\nPrice: $40 per bag, a testament to its unparalleled quality and heritage.\\nCertifications: Officially certified as 100% Blue Mountain Coffee, ensuring authenticity and excellence.\\nAwards: Renowned worldwide for its exceptional quality and exquisite taste.', mimetype='text/plain', start_char_idx=0, end_char_idx=1027, metadata_seperator='\\n', text_template='{metadata_str}\\n\\n{content}'),\n",
       " TextNode(id_='56176053-e5e2-4dd5-85ac-0cc55aa528e7', embedding=None, metadata={'file_path': 'c:\\\\Users\\\\Shifa\\\\Desktop\\\\Customer-Service-Chatbot-Using-SLM\\\\docs\\\\product_factsheets\\\\geisha.txt', 'file_name': 'geisha.txt', 'file_type': 'text/plain', 'file_size': 1099, 'creation_date': '2025-08-16', 'last_modified_date': '2025-08-14'}, excluded_embed_metadata_keys=['file_name', 'file_type', 'file_size', 'creation_date', 'last_modified_date', 'last_accessed_date'], excluded_llm_metadata_keys=['file_name', 'file_type', 'file_size', 'creation_date', 'last_modified_date', 'last_accessed_date'], relationships={<NodeRelationship.SOURCE: '1'>: RelatedNodeInfo(node_id='b81ef4e0-2df3-4876-bd81-3deb718ed3a5', node_type=<ObjectType.DOCUMENT: '4'>, metadata={'file_path': 'c:\\\\Users\\\\Shifa\\\\Desktop\\\\Customer-Service-Chatbot-Using-SLM\\\\docs\\\\product_factsheets\\\\geisha.txt', 'file_name': 'geisha.txt', 'file_type': 'text/plain', 'file_size': 1099, 'creation_date': '2025-08-16', 'last_modified_date': '2025-08-14'}, hash='5ec7f23791b896c1add3ac524e8b918b3db0a0452fef0eb121b993e9540df3f4')}, metadata_template='{key}: {value}', metadata_separator='\\n', text=\"Geisha Coffee Beans - Hacienda La Esmeralda\\n\\nOrigin: Boquete, Panama, from Hacienda La Esmeralda, renowned for producing award-winning Geisha coffee.\\nAltitude: Grown at elevations of 1,500 to 2,000 meters, ideal for developing the bean's distinctive flavors.\\nTaste Profile: A harmonious blend of jasmine and bergamot aromas, complemented by flavors of honey, peaches, and wild berries. The coffee boasts a bright acidity, a delicate body, and a sweet, lingering aftertaste.\\nProcessing: Washed process, highlighting its sweetness and intricate floral notes.\\nRoast Level: Light to medium roast, perfect for preserving the bean's unique flavors.\\nBrewing Recommendations: Best enjoyed using pour-over, Chemex, or Aeropress methods to savor its complex profile.\\nPackaging: 12 oz (340g) eco-friendly, resealable bags.\\nPrice: $50 per bag, a testament to its exceptional quality and exclusivity.\\nCertifications: Direct Trade, Rainforest Alliance Certified, ensuring sustainability and fair trade practices.\\nAwards: Celebrated for its outstanding quality with multiple wins in the Best of Panama competition.\", mimetype='text/plain', start_char_idx=0, end_char_idx=1099, metadata_seperator='\\n', text_template='{metadata_str}\\n\\n{content}'),\n",
       " TextNode(id_='8d392237-f972-404e-b8a2-17d5b3ce1570', embedding=None, metadata={'file_path': 'c:\\\\Users\\\\Shifa\\\\Desktop\\\\Customer-Service-Chatbot-Using-SLM\\\\docs\\\\product_factsheets\\\\sumatra_mandheling.txt', 'file_name': 'sumatra_mandheling.txt', 'file_type': 'text/plain', 'file_size': 1112, 'creation_date': '2025-08-16', 'last_modified_date': '2025-08-14'}, excluded_embed_metadata_keys=['file_name', 'file_type', 'file_size', 'creation_date', 'last_modified_date', 'last_accessed_date'], excluded_llm_metadata_keys=['file_name', 'file_type', 'file_size', 'creation_date', 'last_modified_date', 'last_accessed_date'], relationships={<NodeRelationship.SOURCE: '1'>: RelatedNodeInfo(node_id='09e0d9cb-665b-4643-a1af-7c9fd00779ee', node_type=<ObjectType.DOCUMENT: '4'>, metadata={'file_path': 'c:\\\\Users\\\\Shifa\\\\Desktop\\\\Customer-Service-Chatbot-Using-SLM\\\\docs\\\\product_factsheets\\\\sumatra_mandheling.txt', 'file_name': 'sumatra_mandheling.txt', 'file_type': 'text/plain', 'file_size': 1112, 'creation_date': '2025-08-16', 'last_modified_date': '2025-08-14'}, hash='0f7724abb0c766393b53658a003f297cdb164b0186808a588044c4b80104ce0e')}, metadata_template='{key}: {value}', metadata_separator='\\n', text='Sumatra Mandheling Coffee Beans - The Heart of Indonesia\\n\\nOrigin: Sourced from the lush Mandheling region of North Sumatra, Indonesia, where coffee is cultivated with care and tradition.\\nAltitude: Grown at 1,000 to 1,500 meters, ideal for developing its signature deep and earthy flavors.\\nTaste Profile: A robust cup with a profile of dark chocolate and cedar, complemented by a hint of tropical fruit. Features low acidity, a full body, and a spicy aftertaste.\\nProcessing: Utilizes the Giling Basah method, distinctive to Indonesian coffee, enhancing its unique characteristics.\\nRoast Level: Medium to dark roast, perfect for bringing out its bold and rich flavors.\\nBrewing Recommendations: Best enjoyed in espresso or French press, where its complexity can be fully appreciated.\\nPackaging: 12 oz (340g) bags, prioritizing freshness.\\nPrice: $25 per bag, reflecting the premium quality and the unique coffee experience it offers.\\nCertifications: Rainforest Alliance Certified, affirming a commitment to sustainability.\\nAwards: Recognized for its distinctive taste profile and high quality by coffee connoisseurs.', mimetype='text/plain', start_char_idx=0, end_char_idx=1112, metadata_seperator='\\n', text_template='{metadata_str}\\n\\n{content}'),\n",
       " TextNode(id_='18408a05-61c7-410a-92ea-c3d2cf458ea6', embedding=None, metadata={'file_path': 'c:\\\\Users\\\\Shifa\\\\Desktop\\\\Customer-Service-Chatbot-Using-SLM\\\\docs\\\\product_factsheets\\\\yirgacheffe.txt', 'file_name': 'yirgacheffe.txt', 'file_type': 'text/plain', 'file_size': 1238, 'creation_date': '2025-08-16', 'last_modified_date': '2025-08-14'}, excluded_embed_metadata_keys=['file_name', 'file_type', 'file_size', 'creation_date', 'last_modified_date', 'last_accessed_date'], excluded_llm_metadata_keys=['file_name', 'file_type', 'file_size', 'creation_date', 'last_modified_date', 'last_accessed_date'], relationships={<NodeRelationship.SOURCE: '1'>: RelatedNodeInfo(node_id='a255641e-b199-418c-a177-d50a22cd2d3b', node_type=<ObjectType.DOCUMENT: '4'>, metadata={'file_path': 'c:\\\\Users\\\\Shifa\\\\Desktop\\\\Customer-Service-Chatbot-Using-SLM\\\\docs\\\\product_factsheets\\\\yirgacheffe.txt', 'file_name': 'yirgacheffe.txt', 'file_type': 'text/plain', 'file_size': 1238, 'creation_date': '2025-08-16', 'last_modified_date': '2025-08-14'}, hash='b0f251bd9d384b5f5d886987804cbc43d323c6af520b643076892f05651f5485')}, metadata_template='{key}: {value}', metadata_separator='\\n', text=\"Yirgacheffe Coffee Beans - The Essence of Ethiopia\\n\\nOrigin: Sourced from the esteemed Yirgacheffe region within Sidamo, Ethiopia, where coffee cultivation is an art passed down through generations.\\nAltitude: Cultivated at 1,700 to 2,200 meters, the ideal range for developing its signature floral and citrus notes.\\nTaste Profile: A delightful floral bouquet with a citrusy twist, featuring lemon and bergamot, and accented by jasmine and honey. Exhibits a bright acidity and a light to medium body, culminating in a refreshingly sweet aftertaste.\\nProcessing: Washed processing enhances its inherent clarity and exquisite floral undertones.\\nRoast Level: Optimal light to medium roast to preserve the bean's delicate flavors.\\nBrewing Recommendations: Best experienced through pour-over, cold brew, or drip coffee, allowing its unique characteristics to shine.\\nPackaging: 12 oz (340g) bags designed with the environment in mind.\\nPrice: $30 per bag, a tribute to its premium quality and the intricate care involved in its production.\\nCertifications: Proudly Organic and Fair Trade certified, supporting ethical and sustainable coffee farming.\\nAwards: Celebrated for its unique flavor profile and quality, both in Ethiopia and internationally.\", mimetype='text/plain', start_char_idx=0, end_char_idx=1238, metadata_seperator='\\n', text_template='{metadata_str}\\n\\n{content}')]"
      ]
     },
     "execution_count": 18,
     "metadata": {},
     "output_type": "execute_result"
    }
   ],
   "source": [
    "nodes"
   ]
  },
  {
   "cell_type": "code",
   "execution_count": 19,
   "id": "2f1c0c6c",
   "metadata": {},
   "outputs": [
    {
     "data": {
      "text/plain": [
       "{'id_': '43f2bd3a-e2c9-4f9b-8232-0c53b2262a43',\n",
       " 'embedding': None,\n",
       " 'metadata': {'file_path': 'c:\\\\Users\\\\Shifa\\\\Desktop\\\\Customer-Service-Chatbot-Using-SLM\\\\docs\\\\coffee_bean_menu.csv',\n",
       "  'file_name': 'coffee_bean_menu.csv',\n",
       "  'file_type': 'application/vnd.ms-excel',\n",
       "  'file_size': 1128,\n",
       "  'creation_date': '2025-08-16',\n",
       "  'last_modified_date': '2025-08-14'},\n",
       " 'excluded_embed_metadata_keys': ['file_name',\n",
       "  'file_type',\n",
       "  'file_size',\n",
       "  'creation_date',\n",
       "  'last_modified_date',\n",
       "  'last_accessed_date'],\n",
       " 'excluded_llm_metadata_keys': ['file_name',\n",
       "  'file_type',\n",
       "  'file_size',\n",
       "  'creation_date',\n",
       "  'last_modified_date',\n",
       "  'last_accessed_date'],\n",
       " 'relationships': {<NodeRelationship.SOURCE: '1'>: RelatedNodeInfo(node_id='ec37a1fa-c382-4b02-90d6-36a13a761e45', node_type=<ObjectType.DOCUMENT: '4'>, metadata={'file_path': 'c:\\\\Users\\\\Shifa\\\\Desktop\\\\Customer-Service-Chatbot-Using-SLM\\\\docs\\\\coffee_bean_menu.csv', 'file_name': 'coffee_bean_menu.csv', 'file_type': 'application/vnd.ms-excel', 'file_size': 1128, 'creation_date': '2025-08-16', 'last_modified_date': '2025-08-14'}, hash='3ff68609352f2ad1a71e56053c0fa430d3f7bf39bd2b55594f3c1f11baa34b02')},\n",
       " 'metadata_template': '{key}: {value}',\n",
       " 'metadata_separator': '\\n',\n",
       " 'text': 'Origin, Hacienda La Esmeralda, Panama, Yirgacheffe region, Ethiopia, Blue Mountains, Jamaica, Mandheling, Sumatra, Indonesia\\nAltitude (meters), 1,500-2,000, 1,700-2,200, 910-1,700, 1,000-1,500\\nFlavor Profile, Jasmine, bergamot, honey, peaches, berries, Floral, lemon, bergamot, jasmine, honey, Sweet herbs, nuts, chocolate, Dark chocolate, cedar, tropical fruit\\nAcidity, Bright, Vibrant, Mild, Low\\nBody, Delicate, Light-Medium, Smooth, Full\\nAftertaste, Sweet, Clean, sweet, Clean, chocolatey, Spicy\\nProcessing Method, Washed, Washed, Wet-processed, Giling Basah\\nRoast Level, Light-Medium, Light-Medium, Medium, Medium-Dark\\nRecommended Brewing Methods, Pour-over, Chemex, Aeropress, Pour-over, cold brew, drip, Drip, French press, Espresso, French press\\nPackaging (oz/g), 12 oz (340g), 12 oz (340g), 16 oz (454g), 12 oz (340g)\\nPrice ($ per bag), $50, $30, $40, $25\\nCertifications, Direct Trade, Rainforest Alliance, Organic, Fair Trade, 100% Certified, Rainforest Alliance\\nAwards, Best of Panama winner, Global recognition, One of the best globally, Distinctive taste',\n",
       " 'mimetype': 'text/plain',\n",
       " 'start_char_idx': 0,\n",
       " 'end_char_idx': 1066,\n",
       " 'metadata_seperator': '\\n',\n",
       " 'text_template': '{metadata_str}\\n\\n{content}'}"
      ]
     },
     "execution_count": 19,
     "metadata": {},
     "output_type": "execute_result"
    }
   ],
   "source": [
    "nodes[0].__dict__"
   ]
  },
  {
   "cell_type": "code",
   "execution_count": 22,
   "id": "c7b63aa9",
   "metadata": {},
   "outputs": [],
   "source": [
    "from llama_index.llms.ollama import Ollama"
   ]
  },
  {
   "cell_type": "code",
   "execution_count": 21,
   "id": "a3751b68",
   "metadata": {},
   "outputs": [
    {
     "name": "stdout",
     "output_type": "stream",
     "text": [
      "Defaulting to user installation because normal site-packages is not writeable\n",
      "Collecting llama-index-llms-ollama\n",
      "  Downloading llama_index_llms_ollama-0.7.1-py3-none-any.whl.metadata (3.6 kB)\n",
      "Requirement already satisfied: llama-index-core<0.14,>=0.13.0 in c:\\users\\shifa\\appdata\\roaming\\python\\python312\\site-packages (from llama-index-llms-ollama) (0.13.1)\n",
      "Requirement already satisfied: ollama>=0.5.1 in c:\\users\\shifa\\appdata\\roaming\\python\\python312\\site-packages (from llama-index-llms-ollama) (0.5.1)\n",
      "Requirement already satisfied: aiohttp<4,>=3.8.6 in c:\\users\\shifa\\appdata\\roaming\\python\\python312\\site-packages (from llama-index-core<0.14,>=0.13.0->llama-index-llms-ollama) (3.11.11)\n",
      "Requirement already satisfied: aiosqlite in c:\\users\\shifa\\appdata\\roaming\\python\\python312\\site-packages (from llama-index-core<0.14,>=0.13.0->llama-index-llms-ollama) (0.21.0)\n",
      "Requirement already satisfied: banks<3,>=2.2.0 in c:\\users\\shifa\\appdata\\roaming\\python\\python312\\site-packages (from llama-index-core<0.14,>=0.13.0->llama-index-llms-ollama) (2.2.0)\n",
      "Requirement already satisfied: dataclasses-json in c:\\users\\shifa\\appdata\\roaming\\python\\python312\\site-packages (from llama-index-core<0.14,>=0.13.0->llama-index-llms-ollama) (0.6.7)\n",
      "Requirement already satisfied: deprecated>=1.2.9.3 in c:\\users\\shifa\\appdata\\roaming\\python\\python312\\site-packages (from llama-index-core<0.14,>=0.13.0->llama-index-llms-ollama) (1.2.18)\n",
      "Requirement already satisfied: dirtyjson<2,>=1.0.8 in c:\\users\\shifa\\appdata\\roaming\\python\\python312\\site-packages (from llama-index-core<0.14,>=0.13.0->llama-index-llms-ollama) (1.0.8)\n",
      "Requirement already satisfied: filetype<2,>=1.2.0 in c:\\users\\shifa\\appdata\\roaming\\python\\python312\\site-packages (from llama-index-core<0.14,>=0.13.0->llama-index-llms-ollama) (1.2.0)\n",
      "Requirement already satisfied: fsspec>=2023.5.0 in c:\\users\\shifa\\appdata\\roaming\\python\\python312\\site-packages (from llama-index-core<0.14,>=0.13.0->llama-index-llms-ollama) (2024.9.0)\n",
      "Requirement already satisfied: httpx in c:\\users\\shifa\\appdata\\roaming\\python\\python312\\site-packages (from llama-index-core<0.14,>=0.13.0->llama-index-llms-ollama) (0.28.1)\n",
      "Requirement already satisfied: llama-index-workflows<2,>=1.0.1 in c:\\users\\shifa\\appdata\\roaming\\python\\python312\\site-packages (from llama-index-core<0.14,>=0.13.0->llama-index-llms-ollama) (1.3.0)\n",
      "Requirement already satisfied: nest-asyncio<2,>=1.5.8 in c:\\users\\shifa\\appdata\\roaming\\python\\python312\\site-packages (from llama-index-core<0.14,>=0.13.0->llama-index-llms-ollama) (1.6.0)\n",
      "Requirement already satisfied: networkx>=3.0 in c:\\users\\shifa\\appdata\\roaming\\python\\python312\\site-packages (from llama-index-core<0.14,>=0.13.0->llama-index-llms-ollama) (3.4.2)\n",
      "Requirement already satisfied: nltk>3.8.1 in c:\\users\\shifa\\appdata\\roaming\\python\\python312\\site-packages (from llama-index-core<0.14,>=0.13.0->llama-index-llms-ollama) (3.9.1)\n",
      "Requirement already satisfied: numpy in c:\\users\\shifa\\appdata\\roaming\\python\\python312\\site-packages (from llama-index-core<0.14,>=0.13.0->llama-index-llms-ollama) (2.0.2)\n",
      "Requirement already satisfied: pillow>=9.0.0 in c:\\users\\shifa\\appdata\\roaming\\python\\python312\\site-packages (from llama-index-core<0.14,>=0.13.0->llama-index-llms-ollama) (10.4.0)\n",
      "Requirement already satisfied: platformdirs in c:\\users\\shifa\\appdata\\roaming\\python\\python312\\site-packages (from llama-index-core<0.14,>=0.13.0->llama-index-llms-ollama) (4.3.8)\n",
      "Requirement already satisfied: pydantic>=2.8.0 in c:\\users\\shifa\\appdata\\roaming\\python\\python312\\site-packages (from llama-index-core<0.14,>=0.13.0->llama-index-llms-ollama) (2.11.7)\n",
      "Requirement already satisfied: pyyaml>=6.0.1 in c:\\users\\shifa\\appdata\\roaming\\python\\python312\\site-packages (from llama-index-core<0.14,>=0.13.0->llama-index-llms-ollama) (6.0.2)\n",
      "Requirement already satisfied: requests>=2.31.0 in c:\\users\\shifa\\appdata\\roaming\\python\\python312\\site-packages (from llama-index-core<0.14,>=0.13.0->llama-index-llms-ollama) (2.32.4)\n",
      "Requirement already satisfied: setuptools>=80.9.0 in c:\\users\\shifa\\appdata\\roaming\\python\\python312\\site-packages (from llama-index-core<0.14,>=0.13.0->llama-index-llms-ollama) (80.9.0)\n",
      "Requirement already satisfied: sqlalchemy>=1.4.49 in c:\\users\\shifa\\appdata\\roaming\\python\\python312\\site-packages (from sqlalchemy[asyncio]>=1.4.49->llama-index-core<0.14,>=0.13.0->llama-index-llms-ollama) (2.0.41)\n",
      "Requirement already satisfied: tenacity!=8.4.0,<10.0.0,>=8.2.0 in c:\\users\\shifa\\appdata\\roaming\\python\\python312\\site-packages (from llama-index-core<0.14,>=0.13.0->llama-index-llms-ollama) (8.5.0)\n",
      "Requirement already satisfied: tiktoken>=0.7.0 in c:\\users\\shifa\\appdata\\roaming\\python\\python312\\site-packages (from llama-index-core<0.14,>=0.13.0->llama-index-llms-ollama) (0.8.0)\n",
      "Requirement already satisfied: tqdm<5,>=4.66.1 in c:\\users\\shifa\\appdata\\roaming\\python\\python312\\site-packages (from llama-index-core<0.14,>=0.13.0->llama-index-llms-ollama) (4.66.5)\n",
      "Requirement already satisfied: typing-extensions>=4.5.0 in c:\\users\\shifa\\appdata\\roaming\\python\\python312\\site-packages (from llama-index-core<0.14,>=0.13.0->llama-index-llms-ollama) (4.12.2)\n",
      "Requirement already satisfied: typing-inspect>=0.8.0 in c:\\users\\shifa\\appdata\\roaming\\python\\python312\\site-packages (from llama-index-core<0.14,>=0.13.0->llama-index-llms-ollama) (0.9.0)\n",
      "Requirement already satisfied: wrapt in c:\\users\\shifa\\appdata\\roaming\\python\\python312\\site-packages (from llama-index-core<0.14,>=0.13.0->llama-index-llms-ollama) (1.17.2)\n",
      "Requirement already satisfied: aiohappyeyeballs>=2.3.0 in c:\\users\\shifa\\appdata\\roaming\\python\\python312\\site-packages (from aiohttp<4,>=3.8.6->llama-index-core<0.14,>=0.13.0->llama-index-llms-ollama) (2.4.4)\n",
      "Requirement already satisfied: aiosignal>=1.1.2 in c:\\users\\shifa\\appdata\\roaming\\python\\python312\\site-packages (from aiohttp<4,>=3.8.6->llama-index-core<0.14,>=0.13.0->llama-index-llms-ollama) (1.3.2)\n",
      "Requirement already satisfied: attrs>=17.3.0 in c:\\users\\shifa\\appdata\\roaming\\python\\python312\\site-packages (from aiohttp<4,>=3.8.6->llama-index-core<0.14,>=0.13.0->llama-index-llms-ollama) (25.3.0)\n",
      "Requirement already satisfied: frozenlist>=1.1.1 in c:\\users\\shifa\\appdata\\roaming\\python\\python312\\site-packages (from aiohttp<4,>=3.8.6->llama-index-core<0.14,>=0.13.0->llama-index-llms-ollama) (1.5.0)\n",
      "Requirement already satisfied: multidict<7.0,>=4.5 in c:\\users\\shifa\\appdata\\roaming\\python\\python312\\site-packages (from aiohttp<4,>=3.8.6->llama-index-core<0.14,>=0.13.0->llama-index-llms-ollama) (6.1.0)\n",
      "Requirement already satisfied: propcache>=0.2.0 in c:\\users\\shifa\\appdata\\roaming\\python\\python312\\site-packages (from aiohttp<4,>=3.8.6->llama-index-core<0.14,>=0.13.0->llama-index-llms-ollama) (0.2.1)\n",
      "Requirement already satisfied: yarl<2.0,>=1.17.0 in c:\\users\\shifa\\appdata\\roaming\\python\\python312\\site-packages (from aiohttp<4,>=3.8.6->llama-index-core<0.14,>=0.13.0->llama-index-llms-ollama) (1.18.3)\n",
      "Requirement already satisfied: griffe in c:\\users\\shifa\\appdata\\roaming\\python\\python312\\site-packages (from banks<3,>=2.2.0->llama-index-core<0.14,>=0.13.0->llama-index-llms-ollama) (1.12.0)\n",
      "Requirement already satisfied: jinja2 in c:\\users\\shifa\\appdata\\roaming\\python\\python312\\site-packages (from banks<3,>=2.2.0->llama-index-core<0.14,>=0.13.0->llama-index-llms-ollama) (3.1.5)\n",
      "Requirement already satisfied: llama-index-instrumentation>=0.1.0 in c:\\users\\shifa\\appdata\\roaming\\python\\python312\\site-packages (from llama-index-workflows<2,>=1.0.1->llama-index-core<0.14,>=0.13.0->llama-index-llms-ollama) (0.4.0)\n",
      "Requirement already satisfied: colorama in c:\\users\\shifa\\appdata\\roaming\\python\\python312\\site-packages (from tqdm<5,>=4.66.1->llama-index-core<0.14,>=0.13.0->llama-index-llms-ollama) (0.4.6)\n",
      "Requirement already satisfied: idna>=2.0 in c:\\users\\shifa\\appdata\\roaming\\python\\python312\\site-packages (from yarl<2.0,>=1.17.0->aiohttp<4,>=3.8.6->llama-index-core<0.14,>=0.13.0->llama-index-llms-ollama) (3.10)\n",
      "Requirement already satisfied: click in c:\\users\\shifa\\appdata\\roaming\\python\\python312\\site-packages (from nltk>3.8.1->llama-index-core<0.14,>=0.13.0->llama-index-llms-ollama) (8.2.1)\n",
      "Requirement already satisfied: joblib in c:\\users\\shifa\\appdata\\roaming\\python\\python312\\site-packages (from nltk>3.8.1->llama-index-core<0.14,>=0.13.0->llama-index-llms-ollama) (1.4.2)\n",
      "Requirement already satisfied: regex>=2021.8.3 in c:\\users\\shifa\\appdata\\roaming\\python\\python312\\site-packages (from nltk>3.8.1->llama-index-core<0.14,>=0.13.0->llama-index-llms-ollama) (2024.11.6)\n",
      "Requirement already satisfied: anyio in c:\\users\\shifa\\appdata\\roaming\\python\\python312\\site-packages (from httpx->llama-index-core<0.14,>=0.13.0->llama-index-llms-ollama) (4.9.0)\n",
      "Requirement already satisfied: certifi in c:\\users\\shifa\\appdata\\roaming\\python\\python312\\site-packages (from httpx->llama-index-core<0.14,>=0.13.0->llama-index-llms-ollama) (2024.8.30)\n",
      "Requirement already satisfied: httpcore==1.* in c:\\users\\shifa\\appdata\\roaming\\python\\python312\\site-packages (from httpx->llama-index-core<0.14,>=0.13.0->llama-index-llms-ollama) (1.0.5)\n",
      "Requirement already satisfied: h11<0.15,>=0.13 in c:\\users\\shifa\\appdata\\roaming\\python\\python312\\site-packages (from httpcore==1.*->httpx->llama-index-core<0.14,>=0.13.0->llama-index-llms-ollama) (0.14.0)\n",
      "Requirement already satisfied: annotated-types>=0.6.0 in c:\\users\\shifa\\appdata\\roaming\\python\\python312\\site-packages (from pydantic>=2.8.0->llama-index-core<0.14,>=0.13.0->llama-index-llms-ollama) (0.7.0)\n",
      "Requirement already satisfied: pydantic-core==2.33.2 in c:\\users\\shifa\\appdata\\roaming\\python\\python312\\site-packages (from pydantic>=2.8.0->llama-index-core<0.14,>=0.13.0->llama-index-llms-ollama) (2.33.2)\n",
      "Requirement already satisfied: typing-inspection>=0.4.0 in c:\\users\\shifa\\appdata\\roaming\\python\\python312\\site-packages (from pydantic>=2.8.0->llama-index-core<0.14,>=0.13.0->llama-index-llms-ollama) (0.4.1)\n",
      "Requirement already satisfied: charset_normalizer<4,>=2 in c:\\users\\shifa\\appdata\\roaming\\python\\python312\\site-packages (from requests>=2.31.0->llama-index-core<0.14,>=0.13.0->llama-index-llms-ollama) (3.3.2)\n",
      "Requirement already satisfied: urllib3<3,>=1.21.1 in c:\\users\\shifa\\appdata\\roaming\\python\\python312\\site-packages (from requests>=2.31.0->llama-index-core<0.14,>=0.13.0->llama-index-llms-ollama) (2.2.3)\n",
      "Requirement already satisfied: greenlet>=1 in c:\\users\\shifa\\appdata\\roaming\\python\\python312\\site-packages (from sqlalchemy>=1.4.49->sqlalchemy[asyncio]>=1.4.49->llama-index-core<0.14,>=0.13.0->llama-index-llms-ollama) (3.2.2)\n",
      "Requirement already satisfied: mypy-extensions>=0.3.0 in c:\\users\\shifa\\appdata\\roaming\\python\\python312\\site-packages (from typing-inspect>=0.8.0->llama-index-core<0.14,>=0.13.0->llama-index-llms-ollama) (1.1.0)\n",
      "Requirement already satisfied: sniffio>=1.1 in c:\\users\\shifa\\appdata\\roaming\\python\\python312\\site-packages (from anyio->httpx->llama-index-core<0.14,>=0.13.0->llama-index-llms-ollama) (1.3.1)\n",
      "Requirement already satisfied: marshmallow<4.0.0,>=3.18.0 in c:\\users\\shifa\\appdata\\roaming\\python\\python312\\site-packages (from dataclasses-json->llama-index-core<0.14,>=0.13.0->llama-index-llms-ollama) (3.26.1)\n",
      "Requirement already satisfied: packaging>=17.0 in c:\\users\\shifa\\appdata\\roaming\\python\\python312\\site-packages (from marshmallow<4.0.0,>=3.18.0->dataclasses-json->llama-index-core<0.14,>=0.13.0->llama-index-llms-ollama) (24.2)\n",
      "Requirement already satisfied: MarkupSafe>=2.0 in c:\\users\\shifa\\appdata\\roaming\\python\\python312\\site-packages (from jinja2->banks<3,>=2.2.0->llama-index-core<0.14,>=0.13.0->llama-index-llms-ollama) (3.0.2)\n",
      "Downloading llama_index_llms_ollama-0.7.1-py3-none-any.whl (8.2 kB)\n",
      "Installing collected packages: llama-index-llms-ollama\n",
      "Successfully installed llama-index-llms-ollama-0.7.1\n",
      "Note: you may need to restart the kernel to use updated packages.\n"
     ]
    },
    {
     "name": "stderr",
     "output_type": "stream",
     "text": [
      "\n",
      "[notice] A new release of pip is available: 25.1.1 -> 25.2\n",
      "[notice] To update, run: python.exe -m pip install --upgrade pip\n"
     ]
    }
   ],
   "source": [
    "%pip install llama-index-llms-ollama"
   ]
  },
  {
   "cell_type": "code",
   "execution_count": 31,
   "id": "64532ac5",
   "metadata": {},
   "outputs": [],
   "source": [
    "llm = Ollama(model=\"llama3:8b\")"
   ]
  },
  {
   "cell_type": "markdown",
   "id": "6cfac63f",
   "metadata": {},
   "source": [
    "Vector Store Index (in-memory)"
   ]
  },
  {
   "cell_type": "code",
   "execution_count": 24,
   "id": "1d359749",
   "metadata": {},
   "outputs": [],
   "source": [
    "from llama_index.core import VectorStoreIndex"
   ]
  },
  {
   "cell_type": "code",
   "execution_count": 26,
   "id": "9f716d43",
   "metadata": {},
   "outputs": [
    {
     "name": "stdout",
     "output_type": "stream",
     "text": [
      "Defaulting to user installation because normal site-packages is not writeable\n",
      "Collecting llama-index-embeddings-ollama\n",
      "  Downloading llama_index_embeddings_ollama-0.8.1-py3-none-any.whl.metadata (400 bytes)\n",
      "Requirement already satisfied: llama-index-core<0.14,>=0.13.0 in c:\\users\\shifa\\appdata\\roaming\\python\\python312\\site-packages (from llama-index-embeddings-ollama) (0.13.1)\n",
      "Requirement already satisfied: ollama>=0.3.1 in c:\\users\\shifa\\appdata\\roaming\\python\\python312\\site-packages (from llama-index-embeddings-ollama) (0.5.1)\n",
      "Requirement already satisfied: aiohttp<4,>=3.8.6 in c:\\users\\shifa\\appdata\\roaming\\python\\python312\\site-packages (from llama-index-core<0.14,>=0.13.0->llama-index-embeddings-ollama) (3.11.11)\n",
      "Requirement already satisfied: aiosqlite in c:\\users\\shifa\\appdata\\roaming\\python\\python312\\site-packages (from llama-index-core<0.14,>=0.13.0->llama-index-embeddings-ollama) (0.21.0)\n",
      "Requirement already satisfied: banks<3,>=2.2.0 in c:\\users\\shifa\\appdata\\roaming\\python\\python312\\site-packages (from llama-index-core<0.14,>=0.13.0->llama-index-embeddings-ollama) (2.2.0)\n",
      "Requirement already satisfied: dataclasses-json in c:\\users\\shifa\\appdata\\roaming\\python\\python312\\site-packages (from llama-index-core<0.14,>=0.13.0->llama-index-embeddings-ollama) (0.6.7)\n",
      "Requirement already satisfied: deprecated>=1.2.9.3 in c:\\users\\shifa\\appdata\\roaming\\python\\python312\\site-packages (from llama-index-core<0.14,>=0.13.0->llama-index-embeddings-ollama) (1.2.18)\n",
      "Requirement already satisfied: dirtyjson<2,>=1.0.8 in c:\\users\\shifa\\appdata\\roaming\\python\\python312\\site-packages (from llama-index-core<0.14,>=0.13.0->llama-index-embeddings-ollama) (1.0.8)\n",
      "Requirement already satisfied: filetype<2,>=1.2.0 in c:\\users\\shifa\\appdata\\roaming\\python\\python312\\site-packages (from llama-index-core<0.14,>=0.13.0->llama-index-embeddings-ollama) (1.2.0)\n",
      "Requirement already satisfied: fsspec>=2023.5.0 in c:\\users\\shifa\\appdata\\roaming\\python\\python312\\site-packages (from llama-index-core<0.14,>=0.13.0->llama-index-embeddings-ollama) (2024.9.0)\n",
      "Requirement already satisfied: httpx in c:\\users\\shifa\\appdata\\roaming\\python\\python312\\site-packages (from llama-index-core<0.14,>=0.13.0->llama-index-embeddings-ollama) (0.28.1)\n",
      "Requirement already satisfied: llama-index-workflows<2,>=1.0.1 in c:\\users\\shifa\\appdata\\roaming\\python\\python312\\site-packages (from llama-index-core<0.14,>=0.13.0->llama-index-embeddings-ollama) (1.3.0)\n",
      "Requirement already satisfied: nest-asyncio<2,>=1.5.8 in c:\\users\\shifa\\appdata\\roaming\\python\\python312\\site-packages (from llama-index-core<0.14,>=0.13.0->llama-index-embeddings-ollama) (1.6.0)\n",
      "Requirement already satisfied: networkx>=3.0 in c:\\users\\shifa\\appdata\\roaming\\python\\python312\\site-packages (from llama-index-core<0.14,>=0.13.0->llama-index-embeddings-ollama) (3.4.2)\n",
      "Requirement already satisfied: nltk>3.8.1 in c:\\users\\shifa\\appdata\\roaming\\python\\python312\\site-packages (from llama-index-core<0.14,>=0.13.0->llama-index-embeddings-ollama) (3.9.1)\n",
      "Requirement already satisfied: numpy in c:\\users\\shifa\\appdata\\roaming\\python\\python312\\site-packages (from llama-index-core<0.14,>=0.13.0->llama-index-embeddings-ollama) (2.0.2)\n",
      "Requirement already satisfied: pillow>=9.0.0 in c:\\users\\shifa\\appdata\\roaming\\python\\python312\\site-packages (from llama-index-core<0.14,>=0.13.0->llama-index-embeddings-ollama) (10.4.0)\n",
      "Requirement already satisfied: platformdirs in c:\\users\\shifa\\appdata\\roaming\\python\\python312\\site-packages (from llama-index-core<0.14,>=0.13.0->llama-index-embeddings-ollama) (4.3.8)\n",
      "Requirement already satisfied: pydantic>=2.8.0 in c:\\users\\shifa\\appdata\\roaming\\python\\python312\\site-packages (from llama-index-core<0.14,>=0.13.0->llama-index-embeddings-ollama) (2.11.7)\n",
      "Requirement already satisfied: pyyaml>=6.0.1 in c:\\users\\shifa\\appdata\\roaming\\python\\python312\\site-packages (from llama-index-core<0.14,>=0.13.0->llama-index-embeddings-ollama) (6.0.2)\n",
      "Requirement already satisfied: requests>=2.31.0 in c:\\users\\shifa\\appdata\\roaming\\python\\python312\\site-packages (from llama-index-core<0.14,>=0.13.0->llama-index-embeddings-ollama) (2.32.4)\n",
      "Requirement already satisfied: setuptools>=80.9.0 in c:\\users\\shifa\\appdata\\roaming\\python\\python312\\site-packages (from llama-index-core<0.14,>=0.13.0->llama-index-embeddings-ollama) (80.9.0)\n",
      "Requirement already satisfied: sqlalchemy>=1.4.49 in c:\\users\\shifa\\appdata\\roaming\\python\\python312\\site-packages (from sqlalchemy[asyncio]>=1.4.49->llama-index-core<0.14,>=0.13.0->llama-index-embeddings-ollama) (2.0.41)\n",
      "Requirement already satisfied: tenacity!=8.4.0,<10.0.0,>=8.2.0 in c:\\users\\shifa\\appdata\\roaming\\python\\python312\\site-packages (from llama-index-core<0.14,>=0.13.0->llama-index-embeddings-ollama) (8.5.0)\n",
      "Requirement already satisfied: tiktoken>=0.7.0 in c:\\users\\shifa\\appdata\\roaming\\python\\python312\\site-packages (from llama-index-core<0.14,>=0.13.0->llama-index-embeddings-ollama) (0.8.0)\n",
      "Requirement already satisfied: tqdm<5,>=4.66.1 in c:\\users\\shifa\\appdata\\roaming\\python\\python312\\site-packages (from llama-index-core<0.14,>=0.13.0->llama-index-embeddings-ollama) (4.66.5)\n",
      "Requirement already satisfied: typing-extensions>=4.5.0 in c:\\users\\shifa\\appdata\\roaming\\python\\python312\\site-packages (from llama-index-core<0.14,>=0.13.0->llama-index-embeddings-ollama) (4.12.2)\n",
      "Requirement already satisfied: typing-inspect>=0.8.0 in c:\\users\\shifa\\appdata\\roaming\\python\\python312\\site-packages (from llama-index-core<0.14,>=0.13.0->llama-index-embeddings-ollama) (0.9.0)\n",
      "Requirement already satisfied: wrapt in c:\\users\\shifa\\appdata\\roaming\\python\\python312\\site-packages (from llama-index-core<0.14,>=0.13.0->llama-index-embeddings-ollama) (1.17.2)\n",
      "Requirement already satisfied: aiohappyeyeballs>=2.3.0 in c:\\users\\shifa\\appdata\\roaming\\python\\python312\\site-packages (from aiohttp<4,>=3.8.6->llama-index-core<0.14,>=0.13.0->llama-index-embeddings-ollama) (2.4.4)\n",
      "Requirement already satisfied: aiosignal>=1.1.2 in c:\\users\\shifa\\appdata\\roaming\\python\\python312\\site-packages (from aiohttp<4,>=3.8.6->llama-index-core<0.14,>=0.13.0->llama-index-embeddings-ollama) (1.3.2)\n",
      "Requirement already satisfied: attrs>=17.3.0 in c:\\users\\shifa\\appdata\\roaming\\python\\python312\\site-packages (from aiohttp<4,>=3.8.6->llama-index-core<0.14,>=0.13.0->llama-index-embeddings-ollama) (25.3.0)\n",
      "Requirement already satisfied: frozenlist>=1.1.1 in c:\\users\\shifa\\appdata\\roaming\\python\\python312\\site-packages (from aiohttp<4,>=3.8.6->llama-index-core<0.14,>=0.13.0->llama-index-embeddings-ollama) (1.5.0)\n",
      "Requirement already satisfied: multidict<7.0,>=4.5 in c:\\users\\shifa\\appdata\\roaming\\python\\python312\\site-packages (from aiohttp<4,>=3.8.6->llama-index-core<0.14,>=0.13.0->llama-index-embeddings-ollama) (6.1.0)\n",
      "Requirement already satisfied: propcache>=0.2.0 in c:\\users\\shifa\\appdata\\roaming\\python\\python312\\site-packages (from aiohttp<4,>=3.8.6->llama-index-core<0.14,>=0.13.0->llama-index-embeddings-ollama) (0.2.1)\n",
      "Requirement already satisfied: yarl<2.0,>=1.17.0 in c:\\users\\shifa\\appdata\\roaming\\python\\python312\\site-packages (from aiohttp<4,>=3.8.6->llama-index-core<0.14,>=0.13.0->llama-index-embeddings-ollama) (1.18.3)\n",
      "Requirement already satisfied: griffe in c:\\users\\shifa\\appdata\\roaming\\python\\python312\\site-packages (from banks<3,>=2.2.0->llama-index-core<0.14,>=0.13.0->llama-index-embeddings-ollama) (1.12.0)\n",
      "Requirement already satisfied: jinja2 in c:\\users\\shifa\\appdata\\roaming\\python\\python312\\site-packages (from banks<3,>=2.2.0->llama-index-core<0.14,>=0.13.0->llama-index-embeddings-ollama) (3.1.5)\n",
      "Requirement already satisfied: llama-index-instrumentation>=0.1.0 in c:\\users\\shifa\\appdata\\roaming\\python\\python312\\site-packages (from llama-index-workflows<2,>=1.0.1->llama-index-core<0.14,>=0.13.0->llama-index-embeddings-ollama) (0.4.0)\n",
      "Requirement already satisfied: colorama in c:\\users\\shifa\\appdata\\roaming\\python\\python312\\site-packages (from tqdm<5,>=4.66.1->llama-index-core<0.14,>=0.13.0->llama-index-embeddings-ollama) (0.4.6)\n",
      "Requirement already satisfied: idna>=2.0 in c:\\users\\shifa\\appdata\\roaming\\python\\python312\\site-packages (from yarl<2.0,>=1.17.0->aiohttp<4,>=3.8.6->llama-index-core<0.14,>=0.13.0->llama-index-embeddings-ollama) (3.10)\n",
      "Requirement already satisfied: click in c:\\users\\shifa\\appdata\\roaming\\python\\python312\\site-packages (from nltk>3.8.1->llama-index-core<0.14,>=0.13.0->llama-index-embeddings-ollama) (8.2.1)\n",
      "Requirement already satisfied: joblib in c:\\users\\shifa\\appdata\\roaming\\python\\python312\\site-packages (from nltk>3.8.1->llama-index-core<0.14,>=0.13.0->llama-index-embeddings-ollama) (1.4.2)\n",
      "Requirement already satisfied: regex>=2021.8.3 in c:\\users\\shifa\\appdata\\roaming\\python\\python312\\site-packages (from nltk>3.8.1->llama-index-core<0.14,>=0.13.0->llama-index-embeddings-ollama) (2024.11.6)\n",
      "Requirement already satisfied: anyio in c:\\users\\shifa\\appdata\\roaming\\python\\python312\\site-packages (from httpx->llama-index-core<0.14,>=0.13.0->llama-index-embeddings-ollama) (4.9.0)\n",
      "Requirement already satisfied: certifi in c:\\users\\shifa\\appdata\\roaming\\python\\python312\\site-packages (from httpx->llama-index-core<0.14,>=0.13.0->llama-index-embeddings-ollama) (2024.8.30)\n",
      "Requirement already satisfied: httpcore==1.* in c:\\users\\shifa\\appdata\\roaming\\python\\python312\\site-packages (from httpx->llama-index-core<0.14,>=0.13.0->llama-index-embeddings-ollama) (1.0.5)\n",
      "Requirement already satisfied: h11<0.15,>=0.13 in c:\\users\\shifa\\appdata\\roaming\\python\\python312\\site-packages (from httpcore==1.*->httpx->llama-index-core<0.14,>=0.13.0->llama-index-embeddings-ollama) (0.14.0)\n",
      "Requirement already satisfied: annotated-types>=0.6.0 in c:\\users\\shifa\\appdata\\roaming\\python\\python312\\site-packages (from pydantic>=2.8.0->llama-index-core<0.14,>=0.13.0->llama-index-embeddings-ollama) (0.7.0)\n",
      "Requirement already satisfied: pydantic-core==2.33.2 in c:\\users\\shifa\\appdata\\roaming\\python\\python312\\site-packages (from pydantic>=2.8.0->llama-index-core<0.14,>=0.13.0->llama-index-embeddings-ollama) (2.33.2)\n",
      "Requirement already satisfied: typing-inspection>=0.4.0 in c:\\users\\shifa\\appdata\\roaming\\python\\python312\\site-packages (from pydantic>=2.8.0->llama-index-core<0.14,>=0.13.0->llama-index-embeddings-ollama) (0.4.1)\n",
      "Requirement already satisfied: charset_normalizer<4,>=2 in c:\\users\\shifa\\appdata\\roaming\\python\\python312\\site-packages (from requests>=2.31.0->llama-index-core<0.14,>=0.13.0->llama-index-embeddings-ollama) (3.3.2)\n",
      "Requirement already satisfied: urllib3<3,>=1.21.1 in c:\\users\\shifa\\appdata\\roaming\\python\\python312\\site-packages (from requests>=2.31.0->llama-index-core<0.14,>=0.13.0->llama-index-embeddings-ollama) (2.2.3)\n",
      "Requirement already satisfied: greenlet>=1 in c:\\users\\shifa\\appdata\\roaming\\python\\python312\\site-packages (from sqlalchemy>=1.4.49->sqlalchemy[asyncio]>=1.4.49->llama-index-core<0.14,>=0.13.0->llama-index-embeddings-ollama) (3.2.2)\n",
      "Requirement already satisfied: mypy-extensions>=0.3.0 in c:\\users\\shifa\\appdata\\roaming\\python\\python312\\site-packages (from typing-inspect>=0.8.0->llama-index-core<0.14,>=0.13.0->llama-index-embeddings-ollama) (1.1.0)\n",
      "Requirement already satisfied: sniffio>=1.1 in c:\\users\\shifa\\appdata\\roaming\\python\\python312\\site-packages (from anyio->httpx->llama-index-core<0.14,>=0.13.0->llama-index-embeddings-ollama) (1.3.1)\n",
      "Requirement already satisfied: marshmallow<4.0.0,>=3.18.0 in c:\\users\\shifa\\appdata\\roaming\\python\\python312\\site-packages (from dataclasses-json->llama-index-core<0.14,>=0.13.0->llama-index-embeddings-ollama) (3.26.1)\n",
      "Requirement already satisfied: packaging>=17.0 in c:\\users\\shifa\\appdata\\roaming\\python\\python312\\site-packages (from marshmallow<4.0.0,>=3.18.0->dataclasses-json->llama-index-core<0.14,>=0.13.0->llama-index-embeddings-ollama) (24.2)\n",
      "Requirement already satisfied: MarkupSafe>=2.0 in c:\\users\\shifa\\appdata\\roaming\\python\\python312\\site-packages (from jinja2->banks<3,>=2.2.0->llama-index-core<0.14,>=0.13.0->llama-index-embeddings-ollama) (3.0.2)\n",
      "Downloading llama_index_embeddings_ollama-0.8.1-py3-none-any.whl (3.4 kB)\n",
      "Installing collected packages: llama-index-embeddings-ollama\n",
      "Successfully installed llama-index-embeddings-ollama-0.8.1\n",
      "Note: you may need to restart the kernel to use updated packages.\n"
     ]
    },
    {
     "name": "stderr",
     "output_type": "stream",
     "text": [
      "\n",
      "[notice] A new release of pip is available: 25.1.1 -> 25.2\n",
      "[notice] To update, run: python.exe -m pip install --upgrade pip\n"
     ]
    }
   ],
   "source": [
    "%pip install llama-index-embeddings-ollama"
   ]
  },
  {
   "cell_type": "code",
   "execution_count": 32,
   "id": "03215c86",
   "metadata": {},
   "outputs": [],
   "source": [
    "from llama_index.embeddings.ollama import OllamaEmbedding\n",
    "\n",
    "embed_model = OllamaEmbedding(model_name=\"llama3:8b\")\n"
   ]
  },
  {
   "cell_type": "code",
   "execution_count": 33,
   "id": "4deb0a38",
   "metadata": {},
   "outputs": [
    {
     "name": "stderr",
     "output_type": "stream",
     "text": [
      "2025-08-17 10:54:53,441 - INFO - HTTP Request: POST http://localhost:11434/api/embed \"HTTP/1.1 200 OK\"\n",
      "2025-08-17 10:54:54,309 - INFO - HTTP Request: POST http://localhost:11434/api/embed \"HTTP/1.1 200 OK\"\n",
      "2025-08-17 10:54:55,181 - INFO - HTTP Request: POST http://localhost:11434/api/embed \"HTTP/1.1 200 OK\"\n",
      "2025-08-17 10:54:56,290 - INFO - HTTP Request: POST http://localhost:11434/api/embed \"HTTP/1.1 200 OK\"\n",
      "2025-08-17 10:54:57,319 - INFO - HTTP Request: POST http://localhost:11434/api/embed \"HTTP/1.1 200 OK\"\n",
      "2025-08-17 10:54:58,309 - INFO - HTTP Request: POST http://localhost:11434/api/embed \"HTTP/1.1 200 OK\"\n",
      "2025-08-17 10:54:59,480 - INFO - HTTP Request: POST http://localhost:11434/api/embed \"HTTP/1.1 200 OK\"\n"
     ]
    }
   ],
   "source": [
    "index = VectorStoreIndex(nodes, embed_model=embed_model)"
   ]
  },
  {
   "cell_type": "markdown",
   "id": "61a35807",
   "metadata": {},
   "source": [
    "# Persist the index"
   ]
  },
  {
   "cell_type": "code",
   "execution_count": 34,
   "id": "4fd03a89",
   "metadata": {},
   "outputs": [],
   "source": [
    "index_dir = 'storage'"
   ]
  },
  {
   "cell_type": "code",
   "execution_count": 36,
   "id": "817d5b29",
   "metadata": {},
   "outputs": [],
   "source": [
    "index.storage_context.persist(index_dir)"
   ]
  },
  {
   "cell_type": "markdown",
   "id": "67c3dda8",
   "metadata": {},
   "source": [
    "Complete the creation of index. The storage folder is my RAG knowledge base.  "
   ]
  }
 ],
 "metadata": {
  "kernelspec": {
   "display_name": "Python 3",
   "language": "python",
   "name": "python3"
  },
  "language_info": {
   "codemirror_mode": {
    "name": "ipython",
    "version": 3
   },
   "file_extension": ".py",
   "mimetype": "text/x-python",
   "name": "python",
   "nbconvert_exporter": "python",
   "pygments_lexer": "ipython3",
   "version": "3.12.6"
  }
 },
 "nbformat": 4,
 "nbformat_minor": 5
}
